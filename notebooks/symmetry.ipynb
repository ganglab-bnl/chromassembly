{
 "cells": [
  {
   "cell_type": "markdown",
   "metadata": {},
   "source": [
    "# Symmetry Tests"
   ]
  },
  {
   "cell_type": "code",
   "execution_count": 2,
   "metadata": {},
   "outputs": [],
   "source": [
    "%load_ext autoreload\n",
    "%autoreload 2"
   ]
  },
  {
   "cell_type": "code",
   "execution_count": 7,
   "metadata": {},
   "outputs": [],
   "source": [
    "import sys\n",
    "\n",
    "sys.path.append('../')\n",
    "from algorithm.Voxel2 import Voxel\n",
    "from algorithm.Lattice import Lattice\n",
    "from algorithm.Surroundings import SurroundingsManager\n",
    "from algorithm.Symmetry import SymmetryDf\n",
    "from algorithm.BondPainter import Mesovoxel, BondPainter\n",
    "\n",
    "import numpy as np\n",
    "import pandas as pd"
   ]
  },
  {
   "cell_type": "code",
   "execution_count": 21,
   "metadata": {},
   "outputs": [
    {
     "name": "stdout",
     "output_type": "stream",
     "text": [
      "SymmetryDf tests\n",
      "---\n",
      "\n",
      "Input lattice:\n",
      "[[[1. 1. 1.]\n",
      "  [1. 0. 1.]\n",
      "  [1. 1. 1.]]\n",
      "\n",
      " [[0. 0. 0.]\n",
      "  [0. 1. 0.]\n",
      "  [0. 0. 0.]]\n",
      "\n",
      " [[1. 1. 1.]\n",
      "  [1. 0. 1.]\n",
      "  [1. 1. 1.]]]\n",
      "\n",
      "Initialized Voxels: 0, 1, 2, 3, 4, 5, 6, 7\n",
      "With coordinates: (0, 1, 1), (1, 1, 1), (0, 0, 1), (1, 0, 1), (0, 1, 0), (1, 1, 0), (0, 0, 0), (1, 0, 0)\n",
      "Min design:\n",
      "[[[1. 1.]\n",
      "  [1. 0.]]\n",
      "\n",
      " [[0. 0.]\n",
      "  [0. 1.]]]\n",
      "\n",
      "voxel_list:\n",
      "[<algorithm.Voxel2.Voxel object at 0x1283df260>, <algorithm.Voxel2.Voxel object at 0x1283dc890>, <algorithm.Voxel2.Voxel object at 0x1283dee70>, <algorithm.Voxel2.Voxel object at 0x1283df650>, <algorithm.Voxel2.Voxel object at 0x1283df530>, <algorithm.Voxel2.Voxel object at 0x16cc4da30>, <algorithm.Voxel2.Voxel object at 0x160a4cb00>, <algorithm.Voxel2.Voxel object at 0x160a4e480>]\n",
      "\n",
      "voxel_list ids:\n",
      "0, 1, 2, 3, 4, 5, 6, 7\n",
      "\n",
      "coord_list:\n",
      "[(0, 1, 1), (1, 1, 1), (0, 0, 1), (1, 0, 1), (0, 1, 0), (1, 1, 0), (0, 0, 0), (1, 0, 0)]\n",
      "\n",
      "Full surroundings:\n",
      "[[[1. 1. 1. 1. 1. 1.]\n",
      "  [1. 0. 1. 0. 1. 0.]\n",
      "  [1. 1. 1. 1. 1. 1.]\n",
      "  [1. 0. 1. 0. 1. 0.]\n",
      "  [1. 1. 1. 1. 1. 1.]\n",
      "  [1. 0. 1. 0. 1. 0.]]\n",
      "\n",
      " [[0. 0. 0. 0. 0. 0.]\n",
      "  [0. 1. 0. 1. 0. 1.]\n",
      "  [0. 0. 0. 0. 0. 0.]\n",
      "  [0. 1. 0. 1. 0. 1.]\n",
      "  [0. 0. 0. 0. 0. 0.]\n",
      "  [0. 1. 0. 1. 0. 1.]]\n",
      "\n",
      " [[1. 1. 1. 1. 1. 1.]\n",
      "  [1. 0. 1. 0. 1. 0.]\n",
      "  [1. 1. 1. 1. 1. 1.]\n",
      "  [1. 0. 1. 0. 1. 0.]\n",
      "  [1. 1. 1. 1. 1. 1.]\n",
      "  [1. 0. 1. 0. 1. 0.]]\n",
      "\n",
      " [[0. 0. 0. 0. 0. 0.]\n",
      "  [0. 1. 0. 1. 0. 1.]\n",
      "  [0. 0. 0. 0. 0. 0.]\n",
      "  [0. 1. 0. 1. 0. 1.]\n",
      "  [0. 0. 0. 0. 0. 0.]\n",
      "  [0. 1. 0. 1. 0. 1.]]\n",
      "\n",
      " [[1. 1. 1. 1. 1. 1.]\n",
      "  [1. 0. 1. 0. 1. 0.]\n",
      "  [1. 1. 1. 1. 1. 1.]\n",
      "  [1. 0. 1. 0. 1. 0.]\n",
      "  [1. 1. 1. 1. 1. 1.]\n",
      "  [1. 0. 1. 0. 1. 0.]]\n",
      "\n",
      " [[0. 0. 0. 0. 0. 0.]\n",
      "  [0. 1. 0. 1. 0. 1.]\n",
      "  [0. 0. 0. 0. 0. 0.]\n",
      "  [0. 1. 0. 1. 0. 1.]\n",
      "  [0. 0. 0. 0. 0. 0.]\n",
      "  [0. 1. 0. 1. 0. 1.]]]\n",
      "\n"
     ]
    },
    {
     "ename": "AttributeError",
     "evalue": "'Lattice' object has no attribute 'voxels'",
     "output_type": "error",
     "traceback": [
      "\u001b[0;31m---------------------------------------------------------------------------\u001b[0m",
      "\u001b[0;31mAttributeError\u001b[0m                            Traceback (most recent call last)",
      "Cell \u001b[0;32mIn[21], line 20\u001b[0m\n\u001b[1;32m     18\u001b[0m surr_manager \u001b[38;5;241m=\u001b[39m SurroundingsManager(lattice)\n\u001b[1;32m     19\u001b[0m \u001b[38;5;28mprint\u001b[39m(\u001b[38;5;124mf\u001b[39m\u001b[38;5;124m'\u001b[39m\u001b[38;5;124mFull surroundings:\u001b[39m\u001b[38;5;130;01m\\n\u001b[39;00m\u001b[38;5;132;01m{\u001b[39;00msurr_manager\u001b[38;5;241m.\u001b[39mFullSurroundings\u001b[38;5;132;01m}\u001b[39;00m\u001b[38;5;130;01m\\n\u001b[39;00m\u001b[38;5;124m'\u001b[39m)\n\u001b[0;32m---> 20\u001b[0m \u001b[38;5;28mprint\u001b[39m(\u001b[38;5;124mf\u001b[39m\u001b[38;5;124m'\u001b[39m\u001b[38;5;124mVoxelSurroundings for voxel 0:\u001b[39m\u001b[38;5;130;01m\\n\u001b[39;00m\u001b[38;5;132;01m{\u001b[39;00msurr_manager\u001b[38;5;241m.\u001b[39mget_voxel_surroundings(\u001b[43mlattice\u001b[49m\u001b[38;5;241;43m.\u001b[39;49m\u001b[43mvoxels\u001b[49m[\u001b[38;5;241m0\u001b[39m])\u001b[38;5;132;01m}\u001b[39;00m\u001b[38;5;130;01m\\n\u001b[39;00m\u001b[38;5;124m'\u001b[39m)\n\u001b[1;32m     21\u001b[0m \u001b[38;5;28mprint\u001b[39m(\u001b[38;5;124mf\u001b[39m\u001b[38;5;124m'\u001b[39m\u001b[38;5;124mVoxelSurroundings for voxel 1:\u001b[39m\u001b[38;5;130;01m\\n\u001b[39;00m\u001b[38;5;132;01m{\u001b[39;00msurr_manager\u001b[38;5;241m.\u001b[39mget_voxel_surroundings(lattice\u001b[38;5;241m.\u001b[39mvoxels[\u001b[38;5;241m1\u001b[39m])\u001b[38;5;132;01m}\u001b[39;00m\u001b[38;5;130;01m\\n\u001b[39;00m\u001b[38;5;124m'\u001b[39m)\n\u001b[1;32m     23\u001b[0m symmetry_df \u001b[38;5;241m=\u001b[39m SymmetryDf(lattice, surr_manager)\n",
      "\u001b[0;31mAttributeError\u001b[0m: 'Lattice' object has no attribute 'voxels'"
     ]
    }
   ],
   "source": [
    "#TODO: Create MinDesign which displays Voxel.index for each location\n",
    "print(\"SymmetryDf tests\\n---\\n\")\n",
    "\n",
    "input_lattice = np.load('data/lattice.npy')\n",
    "print(f'Input lattice:\\n{input_lattice}\\n')\n",
    "\n",
    "lattice = Lattice(input_lattice)\n",
    "\n",
    "# Print statements\n",
    "print(f'Min design:\\n{lattice.MinDesign}\\n')\n",
    "print(f'voxel_list:\\n{lattice.voxel_list}\\n')\n",
    "\n",
    "voxel_indices = [str(voxel.voxel_id) for voxel in lattice.voxel_list]\n",
    "print(f'voxel_list ids:\\n{\", \".join(voxel_indices)}\\n')\n",
    "\n",
    "print(f'coord_list:\\n{lattice.coord_list}\\n')\n",
    "\n",
    "surr_manager = SurroundingsManager(lattice)\n",
    "print(f'Full surroundings:\\n{surr_manager.FullSurroundings}\\n')\n",
    "print(f'VoxelSurroundings for voxel 0:\\n{surr_manager.get_voxel_surroundings(lattice.voxel_list[0])}\\n')\n",
    "print(f'VoxelSurroundings for voxel 1:\\n{surr_manager.get_voxel_surroundings(lattice.voxel_list[1])}\\n')\n",
    "\n",
    "symmetry_df = SymmetryDf(lattice, surr_manager)\n",
    "symmetry_df.compute_all_symmetries()\n",
    "df = symmetry_df.symmetry_df\n",
    "df"
   ]
  },
  {
   "cell_type": "markdown",
   "metadata": {},
   "source": [
    "## View SymDict for each voxel in MinDesign"
   ]
  },
  {
   "cell_type": "code",
   "execution_count": 62,
   "metadata": {},
   "outputs": [
    {
     "name": "stdout",
     "output_type": "stream",
     "text": [
      "Voxel 0\n",
      "---\n",
      "Coordinates: (0, 1, 1) Material: 1.0\n",
      "Symmetries:\n",
      "(0): ['translation', '180° X-axis', '180° Y-axis', '90° Z-axis', '180° Z-axis', '270° Z-axis', '180° X-axis + 180° Y-axis', '180° X-axis + 180° Z-axis', '180° X-axis + 270° Z-axis', '180° X-axis + 90° Z-axis', '180° Z-axis + 180° Y-axis', '270° Z-axis + 180° Y-axis', '90° Z-axis + 180° Y-axis']\n",
      "\n",
      "\n",
      "Voxel 1\n",
      "---\n",
      "Coordinates: (1, 1, 1) Material: 1.0\n",
      "Symmetries:\n",
      "(1): ['translation', '180° X-axis', '180° Y-axis', '180° Z-axis', '180° X-axis + 180° Y-axis', '180° X-axis + 180° Z-axis', '180° Z-axis + 180° Y-axis']\n",
      "(1, 2): ['90° Z-axis', '270° Z-axis', '180° X-axis + 270° Z-axis', '180° X-axis + 90° Z-axis', '270° Z-axis + 180° Y-axis', '90° Z-axis + 180° Y-axis']\n",
      "\n",
      "\n",
      "Voxel 2\n",
      "---\n",
      "Coordinates: (0, 0, 1) Material: 1.0\n",
      "Symmetries:\n",
      "(1, 2): ['90° Z-axis', '270° Z-axis', '180° X-axis + 270° Z-axis', '180° X-axis + 90° Z-axis', '270° Z-axis + 180° Y-axis', '90° Z-axis + 180° Y-axis']\n",
      "(2): ['translation', '180° X-axis', '180° Y-axis', '180° Z-axis', '180° X-axis + 180° Y-axis', '180° X-axis + 180° Z-axis', '180° Z-axis + 180° Y-axis']\n",
      "\n",
      "\n",
      "Voxel 3\n",
      "---\n",
      "Coordinates: (1, 0, 1) Material: 0.0\n",
      "Symmetries:\n",
      "(3): ['translation', '180° X-axis', '180° Y-axis', '90° Z-axis', '180° Z-axis', '270° Z-axis', '180° X-axis + 180° Y-axis', '180° X-axis + 180° Z-axis', '180° X-axis + 270° Z-axis', '180° X-axis + 90° Z-axis', '180° Z-axis + 180° Y-axis', '270° Z-axis + 180° Y-axis', '90° Z-axis + 180° Y-axis']\n",
      "\n",
      "\n",
      "Voxel 4\n",
      "---\n",
      "Coordinates: (0, 1, 0) Material: 0.0\n",
      "Symmetries:\n",
      "(4): ['translation', '180° X-axis', '180° Y-axis', '90° Z-axis', '180° Z-axis', '270° Z-axis', '180° X-axis + 180° Y-axis', '180° X-axis + 180° Z-axis', '180° X-axis + 270° Z-axis', '180° X-axis + 90° Z-axis', '180° Z-axis + 180° Y-axis', '270° Z-axis + 180° Y-axis', '90° Z-axis + 180° Y-axis']\n",
      "\n",
      "\n",
      "Voxel 5\n",
      "---\n",
      "Coordinates: (1, 1, 0) Material: 0.0\n",
      "Symmetries:\n",
      "(5): ['translation', '180° X-axis', '180° Y-axis', '180° Z-axis', '180° X-axis + 180° Y-axis', '180° X-axis + 180° Z-axis', '180° Z-axis + 180° Y-axis']\n",
      "(5, 6): ['90° Z-axis', '270° Z-axis', '180° X-axis + 270° Z-axis', '180° X-axis + 90° Z-axis', '270° Z-axis + 180° Y-axis', '90° Z-axis + 180° Y-axis']\n",
      "\n",
      "\n",
      "Voxel 6\n",
      "---\n",
      "Coordinates: (0, 0, 0) Material: 0.0\n",
      "Symmetries:\n",
      "(5, 6): ['90° Z-axis', '270° Z-axis', '180° X-axis + 270° Z-axis', '180° X-axis + 90° Z-axis', '270° Z-axis + 180° Y-axis', '90° Z-axis + 180° Y-axis']\n",
      "(6): ['translation', '180° X-axis', '180° Y-axis', '180° Z-axis', '180° X-axis + 180° Y-axis', '180° X-axis + 180° Z-axis', '180° Z-axis + 180° Y-axis']\n",
      "\n",
      "\n",
      "Voxel 7\n",
      "---\n",
      "Coordinates: (1, 0, 0) Material: 1.0\n",
      "Symmetries:\n",
      "(7): ['translation', '180° X-axis', '180° Y-axis', '90° Z-axis', '180° Z-axis', '270° Z-axis', '180° X-axis + 180° Y-axis', '180° X-axis + 180° Z-axis', '180° X-axis + 270° Z-axis', '180° X-axis + 90° Z-axis', '180° Z-axis + 180° Y-axis', '270° Z-axis + 180° Y-axis', '90° Z-axis + 180° Y-axis']\n",
      "\n",
      "\n"
     ]
    }
   ],
   "source": [
    "symmetry_df.print_all_symdicts()"
   ]
  },
  {
   "cell_type": "markdown",
   "metadata": {},
   "source": [
    "## Test: Inspect the lattice design"
   ]
  },
  {
   "cell_type": "code",
   "execution_count": 19,
   "metadata": {},
   "outputs": [
    {
     "name": "stdout",
     "output_type": "stream",
     "text": [
      "Initialized Voxels: 0, 1, 2, 3, 4, 5, 6, 7\n",
      "With coordinates: (0, 1, 1), (1, 1, 1), (0, 0, 1), (1, 0, 1), (0, 1, 0), (1, 1, 0), (0, 0, 0), (1, 0, 0)\n",
      "Visualizing MinDesign:\n",
      "[[[1. 1.]\n",
      "  [1. 0.]]\n",
      "\n",
      " [[0. 0.]\n",
      "  [0. 1.]]]\n",
      "\n",
      "Initialized Voxels: 0, 1, 2, 3, 4, 5, 6, 7\n",
      "With coordinates: (0, 1, 1), (1, 1, 1), (0, 0, 1), (1, 0, 1), (0, 1, 0), (1, 1, 0), (0, 0, 0), (1, 0, 0)\n"
     ]
    }
   ],
   "source": [
    "%gui qt\n",
    "\n",
    "import sys\n",
    "import numpy as np\n",
    "from PyQt6.QtWidgets import QApplication\n",
    "from PyQt6.QtCore import QCoreApplication\n",
    "\n",
    "sys.path.append('../')\n",
    "from app.visualize.Visualizer import RunVisualizer\n",
    "\n",
    "if __name__ == '__main__':\n",
    "    if not QCoreApplication.instance():\n",
    "        app = QApplication(sys.argv)\n",
    "    else:\n",
    "        app = QCoreApplication.instance()\n",
    "\n",
    "    # Load the input lattice\n",
    "    input_lattice = np.load('data/lattice.npy')\n",
    "    lattice = Lattice(input_lattice)\n",
    "    print(f'Visualizing MinDesign:\\n{lattice.MinDesign}\\n')\n",
    "\n",
    "    visualizeWindow = RunVisualizer(lattice, app)"
   ]
  },
  {
   "cell_type": "markdown",
   "metadata": {},
   "source": [
    "# Mesovoxel initialization tests"
   ]
  },
  {
   "cell_type": "code",
   "execution_count": 63,
   "metadata": {},
   "outputs": [
    {
     "name": "stdout",
     "output_type": "stream",
     "text": [
      "Adding voxel 2 to complementary_voxels\n",
      "---\n",
      "Has the following symmetries with voxel 1:\n",
      "['90° Z-axis', '270° Z-axis', '180° X-axis + 270° Z-axis', '180° X-axis + 90° Z-axis', '270° Z-axis + 180° Y-axis', '90° Z-axis + 180° Y-axis']\n",
      "\n",
      "Adding voxel 6 to complementary_voxels\n",
      "---\n",
      "Has the following symmetries with voxel 5:\n",
      "['90° Z-axis', '270° Z-axis', '180° X-axis + 270° Z-axis', '180° X-axis + 90° Z-axis', '270° Z-axis + 180° Y-axis', '90° Z-axis + 180° Y-axis']\n",
      "\n",
      "Voxel 1 partner_symdict:\n",
      "1: ['translation', '180° X-axis', '180° Y-axis', '180° Z-axis', '180° X-axis + 180° Y-axis', '180° X-axis + 180° Z-axis', '180° Z-axis + 180° Y-axis']\n",
      "2: ['90° Z-axis', '270° Z-axis', '180° X-axis + 270° Z-axis', '180° X-axis + 90° Z-axis', '270° Z-axis + 180° Y-axis', '90° Z-axis + 180° Y-axis']\n",
      "\n",
      "Structural voxels\n",
      "---\n",
      "Voxel 0 Coordinates: (0, 1, 1) Material: 1.0\n",
      "Voxel 1 Coordinates: (1, 1, 1) Material: 1.0\n",
      "Voxel 3 Coordinates: (1, 0, 1) Material: 0.0\n",
      "Voxel 4 Coordinates: (0, 1, 0) Material: 0.0\n",
      "Voxel 5 Coordinates: (1, 1, 0) Material: 0.0\n",
      "Voxel 7 Coordinates: (1, 0, 0) Material: 1.0\n",
      "\n",
      "Complementary voxels\n",
      "---\n",
      "Voxel 2 Coordinates: (0, 0, 1) Material: 1.0\n",
      "Voxel 6 Coordinates: (0, 0, 0) Material: 0.0\n"
     ]
    }
   ],
   "source": [
    "mesovoxel = Mesovoxel(lattice, symmetry_df)\n",
    "\n",
    "voxel1_partner_symdict = symmetry_df.partner_symdict(1)\n",
    "\n",
    "print(f'Voxel 1 partner_symdict:')\n",
    "for key, value in voxel1_partner_symdict.items():\n",
    "    print(f'{key}: {value}')\n",
    "\n",
    "print(f'\\nStructural voxels\\n---')\n",
    "for voxel in mesovoxel.structural_voxels:\n",
    "    print(f'Voxel {voxel.index} Coordinates: {voxel.coordinates} Material: {voxel.material}')\n",
    "\n",
    "print(f'\\nComplementary voxels\\n---')\n",
    "for voxel in mesovoxel.complementary_voxels:\n",
    "    print(f'Voxel {voxel.index} Coordinates: {voxel.coordinates} Material: {voxel.material}')"
   ]
  },
  {
   "cell_type": "markdown",
   "metadata": {},
   "source": [
    "# Test some painting"
   ]
  },
  {
   "cell_type": "code",
   "execution_count": 64,
   "metadata": {},
   "outputs": [
    {
     "name": "stdout",
     "output_type": "stream",
     "text": [
      "Paint bond with color (1):\n",
      "Between voxel 0 (+x) and voxel 1 (-x)\n",
      "\n",
      "Paint bond with color (2):\n",
      "Between voxel 0 (-x) and voxel 1 (+x)\n",
      "\n",
      "Paint bond with color (3):\n",
      "Between voxel 0 (+z) and voxel 4 (-z)\n",
      "\n",
      "Paint bond with color (4):\n",
      "Between voxel 0 (-z) and voxel 4 (+z)\n",
      "\n",
      "Paint bond with color (5):\n",
      "Between voxel 1 (+y) and voxel 3 (-y)\n",
      "\n",
      "Paint bond with color (6):\n",
      "Between voxel 1 (-y) and voxel 3 (+y)\n",
      "\n",
      "Paint bond with color (7):\n",
      "Between voxel 1 (+z) and voxel 5 (-z)\n",
      "\n",
      "Paint bond with color (8):\n",
      "Between voxel 1 (-z) and voxel 5 (+z)\n",
      "\n",
      "Paint bond with color (9):\n",
      "Between voxel 3 (+z) and voxel 7 (-z)\n",
      "\n",
      "Paint bond with color (10):\n",
      "Between voxel 3 (-z) and voxel 7 (+z)\n",
      "\n",
      "Paint bond with color (11):\n",
      "Between voxel 4 (+x) and voxel 5 (-x)\n",
      "\n",
      "Paint bond with color (12):\n",
      "Between voxel 4 (-x) and voxel 5 (+x)\n",
      "\n",
      "Paint bond with color (13):\n",
      "Between voxel 5 (+y) and voxel 7 (-y)\n",
      "\n",
      "Paint bond with color (14):\n",
      "Between voxel 5 (-y) and voxel 7 (+y)\n",
      "\n"
     ]
    }
   ],
   "source": [
    "#TODO: Be able to visualize bond painting\n",
    "bond_painter = BondPainter(lattice, surr_manager, symmetry_df)\n",
    "bond_painter.paint_mesovoxel(mesovoxel)"
   ]
  },
  {
   "cell_type": "code",
   "execution_count": null,
   "metadata": {},
   "outputs": [],
   "source": []
  }
 ],
 "metadata": {
  "kernelspec": {
   "display_name": "origami-venv",
   "language": "python",
   "name": "python3"
  },
  "language_info": {
   "codemirror_mode": {
    "name": "ipython",
    "version": 3
   },
   "file_extension": ".py",
   "mimetype": "text/x-python",
   "name": "python",
   "nbconvert_exporter": "python",
   "pygments_lexer": "ipython3",
   "version": "3.12.3"
  }
 },
 "nbformat": 4,
 "nbformat_minor": 2
}
