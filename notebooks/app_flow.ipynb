{
 "cells": [
  {
   "cell_type": "markdown",
   "metadata": {},
   "source": [
    "# App Flow Examples\n",
    "This notebook demonstrates how to interactively create and visualize voxel-bond lattice structures in Jupyter notebooks.\n",
    "\n",
    "### Warnings on running PyQt6 / pyqtgraph applications in Jupyter\n",
    "\n",
    "Because PyQt6 is not optimized for running in Jupyter environments, you may potentially crash the Jupyter kernel if you:\n",
    "\n",
    "- Rerun notebook cells without closing the existing program\n",
    "- Try to open / close a GUI instance too many times in a very short timespan\n",
    "\n",
    "The `if-else` statements were added to the app-flow to hopefully catch any existing PyQt application instances and limit the frequency of such events. In the case of any crashes/errors, try restarting your kernel and rerunning the notebook.\n",
    "\n",
    "### Shaders are disabled in Jupyter\n",
    "\n",
    "Note that shaders are also disabled in a Jupyter runtime environment (due to a bug in pyqtgraph which has remained unfixed for at least 10 years). If you are experiencing continuing frustration, or want nicer shaded graphics, run the program from `/main.py` instead."
   ]
  },
  {
   "cell_type": "code",
   "execution_count": null,
   "metadata": {},
   "outputs": [],
   "source": [
    "# This cell allows modules to be reloaded automatically when they are changed\n",
    "%load_ext autoreload\n",
    "%autoreload 2"
   ]
  },
  {
   "cell_type": "markdown",
   "metadata": {},
   "source": [
    "## RunDesigner\n",
    "Runs a GUI which allows you to quickly create 3D numpy arrays which can be used as inputs for the coloring algorithm and for lattice visualization.\n",
    "\n",
    "Your created lattice should be stored in `lattice`, as the return value of RunDesigner."
   ]
  },
  {
   "cell_type": "code",
   "execution_count": 1,
   "metadata": {},
   "outputs": [
    {
     "name": "stdout",
     "output_type": "stream",
     "text": [
      "No lattice received.\n"
     ]
    }
   ],
   "source": [
    "%gui qt\n",
    "\n",
    "import sys\n",
    "from PyQt6.QtWidgets import QApplication\n",
    "from PyQt6.QtCore import QCoreApplication\n",
    "\n",
    "sys.path.append('../')\n",
    "from app.design.Designer import RunDesigner\n",
    "\n",
    "if __name__ == '__main__':\n",
    "    if not QCoreApplication.instance():\n",
    "        app = QApplication(sys.argv)\n",
    "    else:\n",
    "        app = QCoreApplication.instance()\n",
    "    \n",
    "    designer = RunDesigner(app)\n",
    "    lattice = designer.run()\n",
    "    \n",
    "    if lattice is not None:\n",
    "        print(f'Lattice received.')\n",
    "    else:\n",
    "        print(\"No lattice received.\")"
   ]
  },
  {
   "cell_type": "markdown",
   "metadata": {},
   "source": [
    "## RunVisualizer\n",
    "Once you have your numpy array, create a Lattice object with it.\n",
    "\n",
    "RunVisualizer accepts this Lattice object as an input, and visualizes the different integer values of the array as the voxel 'colors'. A typical workflow would be to use the `lattice` output of RunDesigner as the input parameter for RunVisualizer.\n",
    "\n",
    "This example loads a sample numpy array from a file `data/lattice.npy`. "
   ]
  },
  {
   "cell_type": "code",
   "execution_count": 3,
   "metadata": {},
   "outputs": [
    {
     "name": "stdout",
     "output_type": "stream",
     "text": [
      "Visualizing lattice:\n",
      "[[[1 1]\n",
      "  [1 1]]\n",
      "\n",
      " [[0 0]\n",
      "  [0 0]]\n",
      "\n",
      " [[0 0]\n",
      "  [0 0]]]\n",
      "\n"
     ]
    }
   ],
   "source": [
    "%gui qt\n",
    "\n",
    "import sys\n",
    "import numpy as np\n",
    "from PyQt6.QtWidgets import QApplication\n",
    "from PyQt6.QtCore import QCoreApplication\n",
    "\n",
    "sys.path.append('../')\n",
    "from app.visualize.Visualizer import RunVisualizer\n",
    "from algorithm.Lattice import Lattice\n",
    "\n",
    "if __name__ == '__main__':\n",
    "    if not QCoreApplication.instance():\n",
    "        app = QApplication(sys.argv)\n",
    "    else:\n",
    "        app = QCoreApplication.instance()\n",
    "\n",
    "    # Load the input lattice\n",
    "    input_lattice = np.load('data/lattice.npy')\n",
    "    print(f'Visualizing lattice:\\n{input_lattice}\\n')\n",
    "    lattice = Lattice(input_lattice)\n",
    "\n",
    "    visualizeWindow = RunVisualizer(lattice, app)"
   ]
  }
 ],
 "metadata": {
  "kernelspec": {
   "display_name": "origami-venv",
   "language": "python",
   "name": "python3"
  },
  "language_info": {
   "codemirror_mode": {
    "name": "ipython",
    "version": 3
   },
   "file_extension": ".py",
   "mimetype": "text/x-python",
   "name": "python",
   "nbconvert_exporter": "python",
   "pygments_lexer": "ipython3",
   "version": "3.12.3"
  }
 },
 "nbformat": 4,
 "nbformat_minor": 2
}
