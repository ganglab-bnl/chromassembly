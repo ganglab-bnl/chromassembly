{
 "cells": [
  {
   "cell_type": "markdown",
   "metadata": {},
   "source": [
    "# Coloring Algorithm\n",
    "Final code / workflow for the coloring algorithm."
   ]
  },
  {
   "cell_type": "code",
   "execution_count": 1,
   "metadata": {},
   "outputs": [],
   "source": [
    "%load_ext autoreload\n",
    "%autoreload 2"
   ]
  },
  {
   "cell_type": "code",
   "execution_count": 12,
   "metadata": {},
   "outputs": [],
   "source": [
    "import sys\n",
    "\n",
    "sys.path.append('../')\n",
    "from algorithm.Voxel import Voxel\n",
    "from algorithm.Lattice import Lattice\n",
    "from algorithm.Surroundings import Surroundings\n",
    "from algorithm.SymmetryDf import SymmetryDf\n",
    "from algorithm.BondPainter import Mesovoxel, BondPainter\n",
    "from algorithm.Rotation import VoxelRotater\n",
    "\n",
    "from app.design.Designer import RunDesigner\n",
    "from app.visualize.Visualizer import RunVisualizer\n",
    "\n",
    "import numpy as np\n",
    "import pandas as pd\n",
    "from PyQt6.QtWidgets import QApplication\n",
    "from PyQt6.QtCore import QCoreApplication"
   ]
  },
  {
   "cell_type": "markdown",
   "metadata": {},
   "source": [
    "## The algorithm\n",
    "\n",
    "### Create the desired lattice structure\n",
    "\n",
    "Saves it to a file `data/lattice2.npy` to be loaded in a separate cell. Alternatively, you can define your own numpy array in code and create the lattice that way."
   ]
  },
  {
   "cell_type": "code",
   "execution_count": 24,
   "metadata": {},
   "outputs": [
    {
     "name": "stdout",
     "output_type": "stream",
     "text": [
      "Saved lattice:\n",
      "[[[1 1]\n",
      "  [1 1]]\n",
      "\n",
      " [[2 2]\n",
      "  [2 2]]\n",
      "\n",
      " [[0 0]\n",
      "  [0 0]]]\n",
      "\n",
      "Lattice received.\n"
     ]
    }
   ],
   "source": [
    "%gui qt\n",
    "\n",
    "if __name__ == '__main__':\n",
    "    if not QCoreApplication.instance():\n",
    "        app = QApplication(sys.argv)\n",
    "    else:\n",
    "        app = QCoreApplication.instance()\n",
    "    \n",
    "    designer = RunDesigner(app)\n",
    "    input_lattice = designer.run()\n",
    "    \n",
    "    if input_lattice is not None:\n",
    "        print(f'Lattice received.')\n",
    "        np.save(\"data/lattice2.npy\", input_lattice)\n",
    "    else:\n",
    "        print(\"No lattice received.\")"
   ]
  },
  {
   "cell_type": "markdown",
   "metadata": {},
   "source": [
    "### Run the algorithm\n",
    "\n",
    "1. Creates lattice structure with voxel, bond objects.\n",
    "2. Create the full surroundings matrix which is used for comparing symmetry operations on a tiled lattice structure.\n",
    "3. Paint the bond with the algorithm"
   ]
  },
  {
   "cell_type": "code",
   "execution_count": 13,
   "metadata": {},
   "outputs": [
    {
     "name": "stdout",
     "output_type": "stream",
     "text": [
      "Initializing the mesovoxel...\n",
      "Coloring the lattice...\n",
      "Done!\n"
     ]
    }
   ],
   "source": [
    "input_lattice = np.load('data/lattice2.npy')\n",
    "\n",
    "lattice = Lattice(input_lattice)\n",
    "lattice.compute_symmetries()\n",
    "# surr_manager = Surroundings(lattice)\n",
    "# symmetry_df = SymmetryDf(lattice, surr_manager)\n",
    "\n",
    "# Bond painter stuff\n",
    "bond_painter = BondPainter(lattice)\n",
    "bond_painter.paint_lattice()"
   ]
  },
  {
   "cell_type": "code",
   "execution_count": 16,
   "metadata": {},
   "outputs": [
    {
     "data": {
      "text/html": [
       "<div>\n",
       "<style scoped>\n",
       "    .dataframe tbody tr th:only-of-type {\n",
       "        vertical-align: middle;\n",
       "    }\n",
       "\n",
       "    .dataframe tbody tr th {\n",
       "        vertical-align: top;\n",
       "    }\n",
       "\n",
       "    .dataframe thead tr th {\n",
       "        text-align: left;\n",
       "    }\n",
       "</style>\n",
       "<table border=\"1\" class=\"dataframe\">\n",
       "  <thead>\n",
       "    <tr>\n",
       "      <th></th>\n",
       "      <th colspan=\"3\" halign=\"left\">Voxel</th>\n",
       "      <th colspan=\"6\" halign=\"left\">Bond Colors</th>\n",
       "    </tr>\n",
       "    <tr>\n",
       "      <th></th>\n",
       "      <th>ID</th>\n",
       "      <th>Material</th>\n",
       "      <th>Coordinates</th>\n",
       "      <th>+x</th>\n",
       "      <th>-x</th>\n",
       "      <th>+y</th>\n",
       "      <th>-y</th>\n",
       "      <th>+z</th>\n",
       "      <th>-z</th>\n",
       "    </tr>\n",
       "  </thead>\n",
       "  <tbody>\n",
       "    <tr>\n",
       "      <th>0</th>\n",
       "      <td>0</td>\n",
       "      <td>1</td>\n",
       "      <td>(0, 1, 2)</td>\n",
       "      <td>2</td>\n",
       "      <td>2</td>\n",
       "      <td>2</td>\n",
       "      <td>2</td>\n",
       "      <td>1</td>\n",
       "      <td>1</td>\n",
       "    </tr>\n",
       "    <tr>\n",
       "      <th>1</th>\n",
       "      <td>1</td>\n",
       "      <td>1</td>\n",
       "      <td>(1, 1, 2)</td>\n",
       "      <td>-2</td>\n",
       "      <td>-2</td>\n",
       "      <td>-2</td>\n",
       "      <td>-2</td>\n",
       "      <td>1</td>\n",
       "      <td>1</td>\n",
       "    </tr>\n",
       "    <tr>\n",
       "      <th>2</th>\n",
       "      <td>2</td>\n",
       "      <td>1</td>\n",
       "      <td>(0, 0, 2)</td>\n",
       "      <td>-2</td>\n",
       "      <td>-2</td>\n",
       "      <td>-2</td>\n",
       "      <td>-2</td>\n",
       "      <td>1</td>\n",
       "      <td>1</td>\n",
       "    </tr>\n",
       "    <tr>\n",
       "      <th>3</th>\n",
       "      <td>3</td>\n",
       "      <td>1</td>\n",
       "      <td>(1, 0, 2)</td>\n",
       "      <td>2</td>\n",
       "      <td>2</td>\n",
       "      <td>2</td>\n",
       "      <td>2</td>\n",
       "      <td>1</td>\n",
       "      <td>1</td>\n",
       "    </tr>\n",
       "    <tr>\n",
       "      <th>4</th>\n",
       "      <td>4</td>\n",
       "      <td>0</td>\n",
       "      <td>(0, 1, 1)</td>\n",
       "      <td>3</td>\n",
       "      <td>3</td>\n",
       "      <td>3</td>\n",
       "      <td>3</td>\n",
       "      <td>-1</td>\n",
       "      <td>4</td>\n",
       "    </tr>\n",
       "    <tr>\n",
       "      <th>5</th>\n",
       "      <td>5</td>\n",
       "      <td>0</td>\n",
       "      <td>(1, 1, 1)</td>\n",
       "      <td>-3</td>\n",
       "      <td>-3</td>\n",
       "      <td>-3</td>\n",
       "      <td>-3</td>\n",
       "      <td>-1</td>\n",
       "      <td>4</td>\n",
       "    </tr>\n",
       "    <tr>\n",
       "      <th>6</th>\n",
       "      <td>6</td>\n",
       "      <td>0</td>\n",
       "      <td>(0, 0, 1)</td>\n",
       "      <td>-3</td>\n",
       "      <td>-3</td>\n",
       "      <td>-3</td>\n",
       "      <td>-3</td>\n",
       "      <td>-1</td>\n",
       "      <td>4</td>\n",
       "    </tr>\n",
       "    <tr>\n",
       "      <th>7</th>\n",
       "      <td>7</td>\n",
       "      <td>0</td>\n",
       "      <td>(1, 0, 1)</td>\n",
       "      <td>3</td>\n",
       "      <td>3</td>\n",
       "      <td>3</td>\n",
       "      <td>3</td>\n",
       "      <td>-1</td>\n",
       "      <td>4</td>\n",
       "    </tr>\n",
       "    <tr>\n",
       "      <th>8</th>\n",
       "      <td>8</td>\n",
       "      <td>0</td>\n",
       "      <td>(0, 1, 0)</td>\n",
       "      <td>3</td>\n",
       "      <td>3</td>\n",
       "      <td>3</td>\n",
       "      <td>3</td>\n",
       "      <td>-4</td>\n",
       "      <td>-1</td>\n",
       "    </tr>\n",
       "    <tr>\n",
       "      <th>9</th>\n",
       "      <td>9</td>\n",
       "      <td>0</td>\n",
       "      <td>(1, 1, 0)</td>\n",
       "      <td>-3</td>\n",
       "      <td>-3</td>\n",
       "      <td>-3</td>\n",
       "      <td>-3</td>\n",
       "      <td>-4</td>\n",
       "      <td>-1</td>\n",
       "    </tr>\n",
       "    <tr>\n",
       "      <th>10</th>\n",
       "      <td>10</td>\n",
       "      <td>0</td>\n",
       "      <td>(0, 0, 0)</td>\n",
       "      <td>-3</td>\n",
       "      <td>-3</td>\n",
       "      <td>-3</td>\n",
       "      <td>-3</td>\n",
       "      <td>-4</td>\n",
       "      <td>-1</td>\n",
       "    </tr>\n",
       "    <tr>\n",
       "      <th>11</th>\n",
       "      <td>11</td>\n",
       "      <td>0</td>\n",
       "      <td>(1, 0, 0)</td>\n",
       "      <td>3</td>\n",
       "      <td>3</td>\n",
       "      <td>3</td>\n",
       "      <td>3</td>\n",
       "      <td>-4</td>\n",
       "      <td>-1</td>\n",
       "    </tr>\n",
       "  </tbody>\n",
       "</table>\n",
       "</div>"
      ],
      "text/plain": [
       "   Voxel                      Bond Colors               \n",
       "      ID Material Coordinates          +x -x +y -y +z -z\n",
       "0      0        1   (0, 1, 2)           2  2  2  2  1  1\n",
       "1      1        1   (1, 1, 2)          -2 -2 -2 -2  1  1\n",
       "2      2        1   (0, 0, 2)          -2 -2 -2 -2  1  1\n",
       "3      3        1   (1, 0, 2)           2  2  2  2  1  1\n",
       "4      4        0   (0, 1, 1)           3  3  3  3 -1  4\n",
       "5      5        0   (1, 1, 1)          -3 -3 -3 -3 -1  4\n",
       "6      6        0   (0, 0, 1)          -3 -3 -3 -3 -1  4\n",
       "7      7        0   (1, 0, 1)           3  3  3  3 -1  4\n",
       "8      8        0   (0, 1, 0)           3  3  3  3 -4 -1\n",
       "9      9        0   (1, 1, 0)          -3 -3 -3 -3 -4 -1\n",
       "10    10        0   (0, 0, 0)          -3 -3 -3 -3 -4 -1\n",
       "11    11        0   (1, 0, 0)           3  3  3  3 -4 -1"
      ]
     },
     "execution_count": 16,
     "metadata": {},
     "output_type": "execute_result"
    }
   ],
   "source": [
    "# Lists to store combined voxel and bond information\n",
    "final_df = bond_painter.lattice.final_df()\n",
    "final_df"
   ]
  },
  {
   "cell_type": "code",
   "execution_count": 21,
   "metadata": {},
   "outputs": [
    {
     "name": "stdout",
     "output_type": "stream",
     "text": [
      "[0, 1, 4, 5, 8, 9]\n"
     ]
    }
   ],
   "source": [
    "print(lattice.unique_origami())"
   ]
  },
  {
   "cell_type": "markdown",
   "metadata": {},
   "source": [
    "### View the final colored lattice"
   ]
  },
  {
   "cell_type": "code",
   "execution_count": 22,
   "metadata": {},
   "outputs": [],
   "source": [
    "%gui qt\n",
    "\n",
    "if __name__ == '__main__':\n",
    "    if not QCoreApplication.instance():\n",
    "        app = QApplication(sys.argv)\n",
    "    else:\n",
    "        app = QCoreApplication.instance()\n",
    "\n",
    "    visualizeWindow = RunVisualizer(bond_painter.lattice, app)"
   ]
  },
  {
   "cell_type": "code",
   "execution_count": null,
   "metadata": {},
   "outputs": [],
   "source": []
  }
 ],
 "metadata": {
  "kernelspec": {
   "display_name": "origami-venv",
   "language": "python",
   "name": "python3"
  },
  "language_info": {
   "codemirror_mode": {
    "name": "ipython",
    "version": 3
   },
   "file_extension": ".py",
   "mimetype": "text/x-python",
   "name": "python",
   "nbconvert_exporter": "python",
   "pygments_lexer": "ipython3",
   "version": "3.12.3"
  }
 },
 "nbformat": 4,
 "nbformat_minor": 2
}
