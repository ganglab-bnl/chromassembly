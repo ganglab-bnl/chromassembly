{
 "cells": [
  {
   "cell_type": "markdown",
   "metadata": {},
   "source": [
    "DNA Origami\n",
    "---\n",
    "Written by Sarah Hong, adapted from Jason Kahn"
   ]
  },
  {
   "cell_type": "code",
   "execution_count": 8,
   "metadata": {},
   "outputs": [
    {
     "name": "stdout",
     "output_type": "stream",
     "text": [
      "The final lattice is:\n",
      "[[[1. 4. 4.]\n",
      "  [1. 2. 4.]\n",
      "  [3. 0. 0.]]\n",
      "\n",
      " [[2. 1. 4.]\n",
      "  [1. 2. 2.]\n",
      "  [1. 0. 1.]]\n",
      "\n",
      " [[2. 2. 0.]\n",
      "  [4. 1. 4.]\n",
      "  [4. 0. 1.]]]\n",
      "Is it a unit cell?  1\n"
     ]
    }
   ],
   "source": [
    "%%python\n",
    "from LatticeCreator import LatticeCreatorGUI\n",
    "\n",
    "import os\n",
    "import numpy as np\n",
    "\n",
    "lc_gui = LatticeCreatorGUI()\n",
    "lattice, isUnitCell = lc_gui.run()\n",
    "\n",
    "print(\"The final lattice is:\")\n",
    "print(lattice)\n",
    "print(\"Is it a unit cell? \", isUnitCell)\n",
    "\n",
    "np.save(\"lattice.npy\", lattice)"
   ]
  },
  {
   "cell_type": "code",
   "execution_count": 9,
   "metadata": {},
   "outputs": [
    {
     "name": "stdout",
     "output_type": "stream",
     "text": [
      "[[[1. 4. 4.]\n",
      "  [1. 2. 4.]\n",
      "  [3. 0. 0.]]\n",
      "\n",
      " [[2. 1. 4.]\n",
      "  [1. 2. 2.]\n",
      "  [1. 0. 1.]]\n",
      "\n",
      " [[2. 2. 0.]\n",
      "  [4. 1. 4.]\n",
      "  [4. 0. 1.]]]\n"
     ]
    }
   ],
   "source": [
    "import numpy as np\n",
    "\n",
    "with open('lattice.npy', 'rb') as f:\n",
    "    lattice = np.load(f)\n",
    "\n",
    "print(lattice)\n"
   ]
  }
 ],
 "metadata": {
  "kernelspec": {
   "display_name": "venv",
   "language": "python",
   "name": "python3"
  },
  "language_info": {
   "codemirror_mode": {
    "name": "ipython",
    "version": 3
   },
   "file_extension": ".py",
   "mimetype": "text/x-python",
   "name": "python",
   "nbconvert_exporter": "python",
   "pygments_lexer": "ipython3",
   "version": "3.12.1"
  }
 },
 "nbformat": 4,
 "nbformat_minor": 2
}
