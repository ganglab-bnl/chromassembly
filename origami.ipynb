{
 "cells": [
  {
   "cell_type": "markdown",
   "metadata": {},
   "source": [
    "DNA Origami\n",
    "---\n",
    "Written by Sarah Hong, adapted from Jason Kahn"
   ]
  },
  {
   "cell_type": "code",
   "execution_count": 1,
   "metadata": {},
   "outputs": [
    {
     "name": "stdout",
     "output_type": "stream",
     "text": [
      "The final lattice is:\n",
      "[[[1. 0. 1.]\n",
      "  [0. 1. 0.]\n",
      "  [1. 0. 1.]]\n",
      "\n",
      " [[0. 2. 0.]\n",
      "  [2. 4. 2.]\n",
      "  [0. 2. 0.]]\n",
      "\n",
      " [[1. 0. 1.]\n",
      "  [0. 1. 0.]\n",
      "  [1. 0. 1.]]]\n",
      "Is it a unit cell?  1\n"
     ]
    }
   ],
   "source": [
    "%%python\n",
    "from LatticeCreator import LatticeCreatorGUI\n",
    "\n",
    "import os\n",
    "import numpy as np\n",
    "\n",
    "lc_gui = LatticeCreatorGUI()\n",
    "lattice, isUnitCell = lc_gui.run()\n",
    "\n",
    "print(\"The final lattice is:\")\n",
    "print(lattice)\n",
    "print(\"Is it a unit cell? \", isUnitCell)\n",
    "\n",
    "if lattice is not None:\n",
    "    np.save(\"lattice.npy\", lattice)"
   ]
  },
  {
   "cell_type": "code",
   "execution_count": 2,
   "metadata": {},
   "outputs": [
    {
     "name": "stdout",
     "output_type": "stream",
     "text": [
      "[[[1. 0. 1.]\n",
      "  [0. 1. 0.]\n",
      "  [1. 0. 1.]]\n",
      "\n",
      " [[0. 2. 0.]\n",
      "  [2. 4. 2.]\n",
      "  [0. 2. 0.]]\n",
      "\n",
      " [[1. 0. 1.]\n",
      "  [0. 1. 0.]\n",
      "  [1. 0. 1.]]]\n"
     ]
    }
   ],
   "source": [
    "%gui qt\n",
    "\n",
    "import sys\n",
    "import numpy as np\n",
    "from vispy import app, scene\n",
    "from vispy.color import Color\n",
    "\n",
    "from Visualizations import Visualizer\n",
    "\n",
    "with open('lattice.npy', 'rb') as f:\n",
    "    lattice = np.load(f)\n",
    "\n",
    "print(lattice)\n",
    "\n",
    "vis = Visualizer(lattice)\n",
    "vis.run()"
   ]
  }
 ],
 "metadata": {
  "kernelspec": {
   "display_name": "venv",
   "language": "python",
   "name": "python3"
  },
  "language_info": {
   "codemirror_mode": {
    "name": "ipython",
    "version": 3
   },
   "file_extension": ".py",
   "mimetype": "text/x-python",
   "name": "python",
   "nbconvert_exporter": "python",
   "pygments_lexer": "ipython3",
   "version": "3.12.1"
  }
 },
 "nbformat": 4,
 "nbformat_minor": 2
}
