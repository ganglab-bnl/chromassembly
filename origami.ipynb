{
 "cells": [
  {
   "cell_type": "markdown",
   "metadata": {},
   "source": [
    "DNA Origami\n",
    "---\n",
    "Written by Sarah Hong, adapted from Jason Kahn"
   ]
  },
  {
   "cell_type": "code",
   "execution_count": 28,
   "metadata": {},
   "outputs": [
    {
     "name": "stdout",
     "output_type": "stream",
     "text": [
      "The final lattice is:\n",
      "[[[1. 0. 1.]\n",
      "  [0. 1. 0.]\n",
      "  [1. 0. 1.]]\n",
      "\n",
      " [[0. 0. 0.]\n",
      "  [0. 0. 0.]\n",
      "  [0. 0. 0.]]\n",
      "\n",
      " [[1. 0. 1.]\n",
      "  [0. 1. 0.]\n",
      "  [1. 0. 1.]]]\n",
      "Is it a unit cell?  1\n"
     ]
    }
   ],
   "source": [
    "%%python\n",
    "\n",
    "from visualizations.LatticeCreator import LatticeCreatorGUI\n",
    "import os\n",
    "import numpy as np\n",
    "\n",
    "lc_gui = LatticeCreatorGUI()\n",
    "lattice, isUnitCell = lc_gui.run()\n",
    "\n",
    "print(\"The final lattice is:\")\n",
    "print(lattice)\n",
    "print(\"Is it a unit cell? \", isUnitCell)\n",
    "\n",
    "if lattice is not None:\n",
    "    np.save(\"lattice.npy\", lattice)"
   ]
  },
  {
   "cell_type": "code",
   "execution_count": 29,
   "metadata": {},
   "outputs": [],
   "source": [
    "import sys\n",
    "import numpy as np\n",
    "from vispy import app, scene\n",
    "from vispy.color import Color\n",
    "from visualizations.LatticeVisualizer import LatticeVisualizer"
   ]
  },
  {
   "cell_type": "code",
   "execution_count": 30,
   "metadata": {},
   "outputs": [
    {
     "name": "stdout",
     "output_type": "stream",
     "text": [
      "[[[1. 0. 1.]\n",
      "  [0. 1. 0.]\n",
      "  [1. 0. 1.]]\n",
      "\n",
      " [[0. 0. 0.]\n",
      "  [0. 0. 0.]\n",
      "  [0. 0. 0.]]\n",
      "\n",
      " [[1. 0. 1.]\n",
      "  [0. 1. 0.]\n",
      "  [1. 0. 1.]]]\n"
     ]
    }
   ],
   "source": [
    "%gui qt\n",
    "\n",
    "with open('lattice.npy', 'rb') as f:\n",
    "    lattice = np.load(f)\n",
    "\n",
    "print(lattice)\n",
    "\n",
    "vis = LatticeVisualizer(lattice)\n",
    "vis.run()"
   ]
  },
  {
   "cell_type": "code",
   "execution_count": 31,
   "metadata": {},
   "outputs": [],
   "source": [
    "from algorithm.Voxel import Voxel, Lattice, SurroundingsManager\n",
    "\n",
    "input_lattice = np.load('lattice.npy')\n",
    "lattice = Lattice(input_lattice)\n",
    "SM = SurroundingsManager(lattice)"
   ]
  },
  {
   "cell_type": "code",
   "execution_count": 32,
   "metadata": {},
   "outputs": [],
   "source": [
    "# %gui qt\n",
    "\n",
    "# Visualize the UnitCell\n",
    "\n",
    "# UC_vis = LatticeVisualizer(lattice.UnitCell)\n",
    "# UC_vis.run()"
   ]
  },
  {
   "cell_type": "code",
   "execution_count": 33,
   "metadata": {},
   "outputs": [],
   "source": [
    "%gui qt\n",
    "\n",
    "# Visualize the MinDesign\n",
    "\n",
    "MD_vis = LatticeVisualizer(lattice.MinDesign)\n",
    "MD_vis.run()"
   ]
  },
  {
   "cell_type": "code",
   "execution_count": 34,
   "metadata": {},
   "outputs": [
    {
     "name": "stdout",
     "output_type": "stream",
     "text": [
      "FullSurroundings:\n",
      "[[[1. 0. 1. 0. 1. 0.]\n",
      "  [0. 1. 0. 1. 0. 1.]\n",
      "  [1. 0. 1. 0. 1. 0.]\n",
      "  [0. 1. 0. 1. 0. 1.]\n",
      "  [1. 0. 1. 0. 1. 0.]\n",
      "  [0. 1. 0. 1. 0. 1.]]\n",
      "\n",
      " [[0. 0. 0. 0. 0. 0.]\n",
      "  [0. 0. 0. 0. 0. 0.]\n",
      "  [0. 0. 0. 0. 0. 0.]\n",
      "  [0. 0. 0. 0. 0. 0.]\n",
      "  [0. 0. 0. 0. 0. 0.]\n",
      "  [0. 0. 0. 0. 0. 0.]]\n",
      "\n",
      " [[1. 0. 1. 0. 1. 0.]\n",
      "  [0. 1. 0. 1. 0. 1.]\n",
      "  [1. 0. 1. 0. 1. 0.]\n",
      "  [0. 1. 0. 1. 0. 1.]\n",
      "  [1. 0. 1. 0. 1. 0.]\n",
      "  [0. 1. 0. 1. 0. 1.]]\n",
      "\n",
      " [[0. 0. 0. 0. 0. 0.]\n",
      "  [0. 0. 0. 0. 0. 0.]\n",
      "  [0. 0. 0. 0. 0. 0.]\n",
      "  [0. 0. 0. 0. 0. 0.]\n",
      "  [0. 0. 0. 0. 0. 0.]\n",
      "  [0. 0. 0. 0. 0. 0.]]\n",
      "\n",
      " [[1. 0. 1. 0. 1. 0.]\n",
      "  [0. 1. 0. 1. 0. 1.]\n",
      "  [1. 0. 1. 0. 1. 0.]\n",
      "  [0. 1. 0. 1. 0. 1.]\n",
      "  [1. 0. 1. 0. 1. 0.]\n",
      "  [0. 1. 0. 1. 0. 1.]]\n",
      "\n",
      " [[0. 0. 0. 0. 0. 0.]\n",
      "  [0. 0. 0. 0. 0. 0.]\n",
      "  [0. 0. 0. 0. 0. 0.]\n",
      "  [0. 0. 0. 0. 0. 0.]\n",
      "  [0. 0. 0. 0. 0. 0.]\n",
      "  [0. 0. 0. 0. 0. 0.]]]\n",
      "Shape: (6, 6, 6)\n"
     ]
    }
   ],
   "source": [
    "# %gui qt\n",
    "\n",
    "# Visualize the FullSurroundings \n",
    "# (Not recommended for large designs, it's extremely slow even for simple ones)\n",
    "\n",
    "# FS_vis = LatticeVisualizer(SM.FullSurroundings)\n",
    "# FS_vis.run()\n",
    "\n",
    "print(f'FullSurroundings:\\n{SM.FullSurroundings}')\n",
    "print(f'Shape: {SM.FullSurroundings.shape}')"
   ]
  },
  {
   "cell_type": "code",
   "execution_count": null,
   "metadata": {},
   "outputs": [],
   "source": []
  }
 ],
 "metadata": {
  "kernelspec": {
   "display_name": "venv",
   "language": "python",
   "name": "python3"
  },
  "language_info": {
   "codemirror_mode": {
    "name": "ipython",
    "version": 3
   },
   "file_extension": ".py",
   "mimetype": "text/x-python",
   "name": "python",
   "nbconvert_exporter": "python",
   "pygments_lexer": "ipython3",
   "version": "3.12.3"
  }
 },
 "nbformat": 4,
 "nbformat_minor": 2
}
