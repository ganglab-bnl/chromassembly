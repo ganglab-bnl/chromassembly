{
 "cells": [
  {
   "cell_type": "markdown",
   "metadata": {},
   "source": [
    "DNA Origami\n",
    "---\n",
    "Written by Sarah Hong, adapted from Jason Kahn"
   ]
  },
  {
   "cell_type": "code",
   "execution_count": null,
   "metadata": {},
   "outputs": [],
   "source": [
    "%%python\n",
    "from LatticeCreator import LatticeCreatorGUI\n",
    "\n",
    "import os\n",
    "import numpy as np\n",
    "\n",
    "lc_gui = LatticeCreatorGUI()\n",
    "lattice, isUnitCell = lc_gui.run()\n",
    "\n",
    "print(\"The final lattice is:\")\n",
    "print(lattice)\n",
    "print(\"Is it a unit cell? \", isUnitCell)\n",
    "\n",
    "np.save(\"lattice.npy\", lattice)"
   ]
  },
  {
   "cell_type": "code",
   "execution_count": 19,
   "metadata": {},
   "outputs": [
    {
     "name": "stdout",
     "output_type": "stream",
     "text": [
      "[[[4. 4. 1.]\n",
      "  [3. 2. 0.]\n",
      "  [3. 3. 2.]]\n",
      "\n",
      " [[1. 4. 0.]\n",
      "  [4. 4. 3.]\n",
      "  [4. 2. 3.]]\n",
      "\n",
      " [[1. 1. 1.]\n",
      "  [3. 4. 0.]\n",
      "  [0. 2. 2.]]]\n"
     ]
    }
   ],
   "source": [
    "import sys\n",
    "import numpy as np\n",
    "from vispy import app, scene\n",
    "from vispy.color import Color\n",
    "\n",
    "with open('lattice.npy', 'rb') as f:\n",
    "    lattice = np.load(f)\n",
    "\n",
    "print(lattice)\n",
    "nlay, nrow, ncol = lattice.shape\n",
    "\n",
    "canvas = scene.SceneCanvas(keys='interactive', size=(800, 600), show=True)\n",
    "\n",
    "view = canvas.central_widget.add_view()\n",
    "view.bgcolor = '#efefef'\n",
    "view.camera = scene.cameras.ArcballCamera(fov=0)\n",
    "view.camera.scale_factor = 500\n",
    "\n",
    "# Define a color dictionary\n",
    "colordict = {\n",
    "    0: Color(\"#AAAAAA80\"),  # Transparent grey color\n",
    "}\n",
    "\n",
    "# Generate random colors for other values\n",
    "for i in range(1, 73):  # Values 1 to 72\n",
    "    color = Color((np.random.rand(), np.random.rand(), np.random.rand()))\n",
    "    color.alpha = 1.0  # Set the alpha value separately\n",
    "    colordict[i] = color\n",
    "\n",
    "coords = []\n",
    "colors = []\n",
    "\n",
    "dist = 40\n",
    "\n",
    "for i in range(nlay):\n",
    "    for j in range(nrow):\n",
    "        for k in range(ncol):\n",
    "            # Calculate position for the particle\n",
    "            x, y, z = i*dist, j*dist, k*dist # Each particle (dist) away from each other\n",
    "\n",
    "            color = colordict[lattice[i, j, k]]  # Get associated color\n",
    "            colors.append(color.rgba)\n",
    "            \n",
    "            coords.append((x, y, z))\n",
    "\n",
    "\n",
    "coords = np.concatenate([coords, [[0, 0, 0]]], axis=0)\n",
    "colors = np.concatenate([colors, [[1, 0, 0, 1]]] * (len(coords) - len(colors)), axis=0)\n",
    "\n",
    "vis = scene.visuals.Markers(\n",
    "    pos = coords,\n",
    "    size = 20,\n",
    "    antialias=0,\n",
    "    face_color=colors,\n",
    "    edge_color='white',\n",
    "    edge_width=0,\n",
    "    scaling=True,\n",
    "    spherical=True\n",
    ")\n",
    "\n",
    "vis.parent = view.scene\n",
    "\n",
    "# ambient_light = scene.LightAmbient(intensity=0.5)\n",
    "# view.add(ambient_light)\n",
    "\n",
    "if __name__ == '__main__':\n",
    "    app.run()"
   ]
  }
 ],
 "metadata": {
  "kernelspec": {
   "display_name": "venv",
   "language": "python",
   "name": "python3"
  },
  "language_info": {
   "codemirror_mode": {
    "name": "ipython",
    "version": 3
   },
   "file_extension": ".py",
   "mimetype": "text/x-python",
   "name": "python",
   "nbconvert_exporter": "python",
   "pygments_lexer": "ipython3",
   "version": "3.12.1"
  }
 },
 "nbformat": 4,
 "nbformat_minor": 2
}
