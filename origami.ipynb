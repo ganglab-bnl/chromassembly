{
 "cells": [
  {
   "cell_type": "markdown",
   "metadata": {},
   "source": [
    "DNA Origami\n",
    "---\n",
    "Written by Sarah Hong, adapted from Jason Kahn"
   ]
  },
  {
   "cell_type": "code",
   "execution_count": 5,
   "metadata": {},
   "outputs": [
    {
     "name": "stdout",
     "output_type": "stream",
     "text": [
      "The final lattice is:\n",
      "[[[1. 0. 1.]\n",
      "  [0. 1. 0.]\n",
      "  [1. 0. 1.]]\n",
      "\n",
      " [[2. 0. 2.]\n",
      "  [0. 3. 0.]\n",
      "  [2. 0. 2.]]\n",
      "\n",
      " [[4. 0. 4.]\n",
      "  [0. 4. 0.]\n",
      "  [4. 0. 4.]]]\n",
      "Is it a unit cell?  1\n"
     ]
    }
   ],
   "source": [
    "%%python\n",
    "from LatticeCreator import LatticeCreatorGUI\n",
    "\n",
    "import os\n",
    "import numpy as np\n",
    "\n",
    "lc_gui = LatticeCreatorGUI()\n",
    "lattice, isUnitCell = lc_gui.run()\n",
    "\n",
    "print(\"The final lattice is:\")\n",
    "print(lattice)\n",
    "print(\"Is it a unit cell? \", isUnitCell)\n",
    "\n",
    "if lattice is not None:\n",
    "    np.save(\"lattice.npy\", lattice)"
   ]
  },
  {
   "cell_type": "code",
   "execution_count": 6,
   "metadata": {},
   "outputs": [
    {
     "name": "stdout",
     "output_type": "stream",
     "text": [
      "[[[1. 0. 1.]\n",
      "  [0. 1. 0.]\n",
      "  [1. 0. 1.]]\n",
      "\n",
      " [[2. 0. 2.]\n",
      "  [0. 3. 0.]\n",
      "  [2. 0. 2.]]\n",
      "\n",
      " [[4. 0. 4.]\n",
      "  [0. 4. 0.]\n",
      "  [4. 0. 4.]]]\n",
      "Voxel at (0, 0, 0) has color [0.21568628 0.5058824  0.6627451  1.        ]\n",
      "Voxel at (0, 0, 40) has color [0.6666667 0.6666667 0.6666667 0.5019608]\n",
      "Voxel at (0, 0, 80) has color [0.21568628 0.5058824  0.6627451  1.        ]\n",
      "Voxel at (0, 40, 0) has color [0.6666667 0.6666667 0.6666667 0.5019608]\n",
      "Voxel at (0, 40, 40) has color [0.21568628 0.5058824  0.6627451  1.        ]\n",
      "Voxel at (0, 40, 80) has color [0.6666667 0.6666667 0.6666667 0.5019608]\n",
      "Voxel at (0, 80, 0) has color [0.21568628 0.5058824  0.6627451  1.        ]\n",
      "Voxel at (0, 80, 40) has color [0.6666667 0.6666667 0.6666667 0.5019608]\n",
      "Voxel at (0, 80, 80) has color [0.21568628 0.5058824  0.6627451  1.        ]\n",
      "Voxel at (40, 0, 0) has color [0.34117648 0.6745098  0.75686276 1.        ]\n",
      "Voxel at (40, 0, 40) has color [0.6666667 0.6666667 0.6666667 0.5019608]\n",
      "Voxel at (40, 0, 80) has color [0.34117648 0.6745098  0.75686276 1.        ]\n",
      "Voxel at (40, 40, 0) has color [0.6666667 0.6666667 0.6666667 0.5019608]\n",
      "Voxel at (40, 40, 40) has color [0.49411765 0.8039216  0.38039216 1.        ]\n",
      "Voxel at (40, 40, 80) has color [0.6666667 0.6666667 0.6666667 0.5019608]\n",
      "Voxel at (40, 80, 0) has color [0.34117648 0.6745098  0.75686276 1.        ]\n",
      "Voxel at (40, 80, 40) has color [0.6666667 0.6666667 0.6666667 0.5019608]\n",
      "Voxel at (40, 80, 80) has color [0.34117648 0.6745098  0.75686276 1.        ]\n",
      "Voxel at (80, 0, 0) has color [0.73333335 0.8901961  0.33333334 1.        ]\n",
      "Voxel at (80, 0, 40) has color [0.6666667 0.6666667 0.6666667 0.5019608]\n",
      "Voxel at (80, 0, 80) has color [0.73333335 0.8901961  0.33333334 1.        ]\n",
      "Voxel at (80, 40, 0) has color [0.6666667 0.6666667 0.6666667 0.5019608]\n",
      "Voxel at (80, 40, 40) has color [0.73333335 0.8901961  0.33333334 1.        ]\n",
      "Voxel at (80, 40, 80) has color [0.6666667 0.6666667 0.6666667 0.5019608]\n",
      "Voxel at (80, 80, 0) has color [0.73333335 0.8901961  0.33333334 1.        ]\n",
      "Voxel at (80, 80, 40) has color [0.6666667 0.6666667 0.6666667 0.5019608]\n",
      "Voxel at (80, 80, 80) has color [0.73333335 0.8901961  0.33333334 1.        ]\n"
     ]
    }
   ],
   "source": [
    "%gui qt\n",
    "\n",
    "import sys\n",
    "import numpy as np\n",
    "from vispy import app, scene\n",
    "from vispy.color import Color\n",
    "\n",
    "from Visualizations import Visualizer\n",
    "\n",
    "with open('lattice.npy', 'rb') as f:\n",
    "    lattice = np.load(f)\n",
    "\n",
    "print(lattice)\n",
    "\n",
    "vis = Visualizer(lattice)\n",
    "vis.run()"
   ]
  }
 ],
 "metadata": {
  "kernelspec": {
   "display_name": "venv",
   "language": "python",
   "name": "python3"
  },
  "language_info": {
   "codemirror_mode": {
    "name": "ipython",
    "version": 3
   },
   "file_extension": ".py",
   "mimetype": "text/x-python",
   "name": "python",
   "nbconvert_exporter": "python",
   "pygments_lexer": "ipython3",
   "version": "3.12.1"
  }
 },
 "nbformat": 4,
 "nbformat_minor": 2
}
