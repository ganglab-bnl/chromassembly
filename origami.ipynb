{
 "cells": [
  {
   "cell_type": "markdown",
   "metadata": {},
   "source": [
    "DNA Origami\n",
    "---\n",
    "Written by Sarah Hong, adapted from Jason Kahn"
   ]
  },
  {
   "cell_type": "code",
   "execution_count": 1,
   "metadata": {},
   "outputs": [
    {
     "name": "stdout",
     "output_type": "stream",
     "text": [
      "The final lattice is:\n",
      "[[[8. 6. 2.]\n",
      "  [1. 1. 2.]\n",
      "  [6. 8. 5.]]\n",
      "\n",
      " [[8. 8. 0.]\n",
      "  [0. 4. 1.]\n",
      "  [5. 1. 8.]]\n",
      "\n",
      " [[9. 8. 6.]\n",
      "  [0. 6. 6.]\n",
      "  [4. 3. 4.]]]\n"
     ]
    }
   ],
   "source": [
    "%%python\n",
    "import lattice_creator as lc\n",
    "\n",
    "import tkinter as tk\n",
    "from tkinter import *\n",
    "from tkinter import font, ttk\n",
    "\n",
    "import sv_ttk\n",
    "\n",
    "lc_gui = lc.LatticeCreatorGui()\n",
    "lattice = lc_gui.run()\n",
    "\n",
    "print(\"The final lattice is:\")\n",
    "print(lattice)"
   ]
  }
 ],
 "metadata": {
  "kernelspec": {
   "display_name": "venv",
   "language": "python",
   "name": "python3"
  },
  "language_info": {
   "codemirror_mode": {
    "name": "ipython",
    "version": 3
   },
   "file_extension": ".py",
   "mimetype": "text/x-python",
   "name": "python",
   "nbconvert_exporter": "python",
   "pygments_lexer": "ipython3",
   "version": "3.12.1"
  }
 },
 "nbformat": 4,
 "nbformat_minor": 2
}
