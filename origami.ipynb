{
 "cells": [
  {
   "cell_type": "markdown",
   "metadata": {},
   "source": [
    "DNA Origami\n",
    "---\n",
    "Written by Sarah Hong, adapted from Jason Kahn"
   ]
  },
  {
   "cell_type": "code",
   "execution_count": 1,
   "metadata": {},
   "outputs": [
    {
     "name": "stdout",
     "output_type": "stream",
     "text": [
      "The final lattice is:\n",
      "[[[1. 2. 2.]\n",
      "  [3. 0. 0.]\n",
      "  [2. 0. 3.]]\n",
      "\n",
      " [[3. 1. 0.]\n",
      "  [2. 4. 4.]\n",
      "  [2. 1. 0.]]\n",
      "\n",
      " [[2. 3. 2.]\n",
      "  [2. 3. 2.]\n",
      "  [4. 1. 3.]]]\n",
      "Is it a unit cell?  1\n"
     ]
    }
   ],
   "source": [
    "%%python\n",
    "\n",
    "from visualizations.LatticeCreator import LatticeCreatorGUI\n",
    "import os\n",
    "import numpy as np\n",
    "\n",
    "lc_gui = LatticeCreatorGUI()\n",
    "lattice, isUnitCell = lc_gui.run()\n",
    "\n",
    "print(\"The final lattice is:\")\n",
    "print(lattice)\n",
    "print(\"Is it a unit cell? \", isUnitCell)\n",
    "\n",
    "if lattice is not None:\n",
    "    np.save(\"lattice.npy\", lattice)"
   ]
  },
  {
   "cell_type": "code",
   "execution_count": 2,
   "metadata": {},
   "outputs": [],
   "source": [
    "import sys\n",
    "import numpy as np\n",
    "from vispy import app, scene\n",
    "from vispy.color import Color\n",
    "from visualizations.LatticeVisualizer import LatticeVisualizer"
   ]
  },
  {
   "cell_type": "code",
   "execution_count": 3,
   "metadata": {},
   "outputs": [
    {
     "name": "stdout",
     "output_type": "stream",
     "text": [
      "[[[1. 2. 2.]\n",
      "  [3. 0. 0.]\n",
      "  [2. 0. 3.]]\n",
      "\n",
      " [[3. 1. 0.]\n",
      "  [2. 4. 4.]\n",
      "  [2. 1. 0.]]\n",
      "\n",
      " [[2. 3. 2.]\n",
      "  [2. 3. 2.]\n",
      "  [4. 1. 3.]]]\n"
     ]
    }
   ],
   "source": [
    "%gui qt\n",
    "\n",
    "with open('lattice.npy', 'rb') as f:\n",
    "    lattice = np.load(f)\n",
    "\n",
    "print(lattice)\n",
    "\n",
    "vis = LatticeVisualizer(lattice)\n",
    "vis.run()"
   ]
  },
  {
   "cell_type": "code",
   "execution_count": 18,
   "metadata": {},
   "outputs": [
    {
     "name": "stdout",
     "output_type": "stream",
     "text": [
      "z_repeats: 3, x_repeats: 3, y_repeats: 3\n"
     ]
    }
   ],
   "source": [
    "from algorithm.Voxel import Voxel\n",
    "from algorithm.Lattice import Lattice\n",
    "from algorithm.Surroundings import SurroundingsManager\n",
    "\n",
    "input_lattice = np.load('lattice.npy')\n",
    "lattice = Lattice(input_lattice)\n",
    "sm = SurroundingsManager(lattice)"
   ]
  },
  {
   "cell_type": "code",
   "execution_count": null,
   "metadata": {},
   "outputs": [],
   "source": [
    "# %gui qt\n",
    "\n",
    "# Visualize the UnitCell\n",
    "# UC_vis = LatticeVisualizer(lattice.UnitCell)\n",
    "# UC_vis.run()\n",
    "\n",
    "# Visualize the MinDesign\n",
    "# MD_vis = LatticeVisualizer(lattice.MinDesign)\n",
    "# MD_vis.run()"
   ]
  },
  {
   "cell_type": "code",
   "execution_count": null,
   "metadata": {},
   "outputs": [
    {
     "name": "stdout",
     "output_type": "stream",
     "text": [
      "FullSurroundings:\n",
      "[[[1. 2. 2. 1. 2. 2. 1. 2. 2.]\n",
      "  [3. 0. 0. 3. 0. 0. 3. 0. 0.]\n",
      "  [2. 0. 3. 2. 0. 3. 2. 0. 3.]\n",
      "  [1. 2. 2. 1. 2. 2. 1. 2. 2.]\n",
      "  [3. 0. 0. 3. 0. 0. 3. 0. 0.]\n",
      "  [2. 0. 3. 2. 0. 3. 2. 0. 3.]\n",
      "  [1. 2. 2. 1. 2. 2. 1. 2. 2.]\n",
      "  [3. 0. 0. 3. 0. 0. 3. 0. 0.]\n",
      "  [2. 0. 3. 2. 0. 3. 2. 0. 3.]]\n",
      "\n",
      " [[3. 1. 0. 3. 1. 0. 3. 1. 0.]\n",
      "  [2. 4. 4. 2. 4. 4. 2. 4. 4.]\n",
      "  [2. 1. 0. 2. 1. 0. 2. 1. 0.]\n",
      "  [3. 1. 0. 3. 1. 0. 3. 1. 0.]\n",
      "  [2. 4. 4. 2. 4. 4. 2. 4. 4.]\n",
      "  [2. 1. 0. 2. 1. 0. 2. 1. 0.]\n",
      "  [3. 1. 0. 3. 1. 0. 3. 1. 0.]\n",
      "  [2. 4. 4. 2. 4. 4. 2. 4. 4.]\n",
      "  [2. 1. 0. 2. 1. 0. 2. 1. 0.]]\n",
      "\n",
      " [[2. 3. 2. 2. 3. 2. 2. 3. 2.]\n",
      "  [2. 3. 2. 2. 3. 2. 2. 3. 2.]\n",
      "  [4. 1. 3. 4. 1. 3. 4. 1. 3.]\n",
      "  [2. 3. 2. 2. 3. 2. 2. 3. 2.]\n",
      "  [2. 3. 2. 2. 3. 2. 2. 3. 2.]\n",
      "  [4. 1. 3. 4. 1. 3. 4. 1. 3.]\n",
      "  [2. 3. 2. 2. 3. 2. 2. 3. 2.]\n",
      "  [2. 3. 2. 2. 3. 2. 2. 3. 2.]\n",
      "  [4. 1. 3. 4. 1. 3. 4. 1. 3.]]\n",
      "\n",
      " [[1. 2. 2. 1. 2. 2. 1. 2. 2.]\n",
      "  [3. 0. 0. 3. 0. 0. 3. 0. 0.]\n",
      "  [2. 0. 3. 2. 0. 3. 2. 0. 3.]\n",
      "  [1. 2. 2. 1. 2. 2. 1. 2. 2.]\n",
      "  [3. 0. 0. 3. 0. 0. 3. 0. 0.]\n",
      "  [2. 0. 3. 2. 0. 3. 2. 0. 3.]\n",
      "  [1. 2. 2. 1. 2. 2. 1. 2. 2.]\n",
      "  [3. 0. 0. 3. 0. 0. 3. 0. 0.]\n",
      "  [2. 0. 3. 2. 0. 3. 2. 0. 3.]]\n",
      "\n",
      " [[3. 1. 0. 3. 1. 0. 3. 1. 0.]\n",
      "  [2. 4. 4. 2. 4. 4. 2. 4. 4.]\n",
      "  [2. 1. 0. 2. 1. 0. 2. 1. 0.]\n",
      "  [3. 1. 0. 3. 1. 0. 3. 1. 0.]\n",
      "  [2. 4. 4. 2. 4. 4. 2. 4. 4.]\n",
      "  [2. 1. 0. 2. 1. 0. 2. 1. 0.]\n",
      "  [3. 1. 0. 3. 1. 0. 3. 1. 0.]\n",
      "  [2. 4. 4. 2. 4. 4. 2. 4. 4.]\n",
      "  [2. 1. 0. 2. 1. 0. 2. 1. 0.]]\n",
      "\n",
      " [[2. 3. 2. 2. 3. 2. 2. 3. 2.]\n",
      "  [2. 3. 2. 2. 3. 2. 2. 3. 2.]\n",
      "  [4. 1. 3. 4. 1. 3. 4. 1. 3.]\n",
      "  [2. 3. 2. 2. 3. 2. 2. 3. 2.]\n",
      "  [2. 3. 2. 2. 3. 2. 2. 3. 2.]\n",
      "  [4. 1. 3. 4. 1. 3. 4. 1. 3.]\n",
      "  [2. 3. 2. 2. 3. 2. 2. 3. 2.]\n",
      "  [2. 3. 2. 2. 3. 2. 2. 3. 2.]\n",
      "  [4. 1. 3. 4. 1. 3. 4. 1. 3.]]\n",
      "\n",
      " [[1. 2. 2. 1. 2. 2. 1. 2. 2.]\n",
      "  [3. 0. 0. 3. 0. 0. 3. 0. 0.]\n",
      "  [2. 0. 3. 2. 0. 3. 2. 0. 3.]\n",
      "  [1. 2. 2. 1. 2. 2. 1. 2. 2.]\n",
      "  [3. 0. 0. 3. 0. 0. 3. 0. 0.]\n",
      "  [2. 0. 3. 2. 0. 3. 2. 0. 3.]\n",
      "  [1. 2. 2. 1. 2. 2. 1. 2. 2.]\n",
      "  [3. 0. 0. 3. 0. 0. 3. 0. 0.]\n",
      "  [2. 0. 3. 2. 0. 3. 2. 0. 3.]]\n",
      "\n",
      " [[3. 1. 0. 3. 1. 0. 3. 1. 0.]\n",
      "  [2. 4. 4. 2. 4. 4. 2. 4. 4.]\n",
      "  [2. 1. 0. 2. 1. 0. 2. 1. 0.]\n",
      "  [3. 1. 0. 3. 1. 0. 3. 1. 0.]\n",
      "  [2. 4. 4. 2. 4. 4. 2. 4. 4.]\n",
      "  [2. 1. 0. 2. 1. 0. 2. 1. 0.]\n",
      "  [3. 1. 0. 3. 1. 0. 3. 1. 0.]\n",
      "  [2. 4. 4. 2. 4. 4. 2. 4. 4.]\n",
      "  [2. 1. 0. 2. 1. 0. 2. 1. 0.]]\n",
      "\n",
      " [[2. 3. 2. 2. 3. 2. 2. 3. 2.]\n",
      "  [2. 3. 2. 2. 3. 2. 2. 3. 2.]\n",
      "  [4. 1. 3. 4. 1. 3. 4. 1. 3.]\n",
      "  [2. 3. 2. 2. 3. 2. 2. 3. 2.]\n",
      "  [2. 3. 2. 2. 3. 2. 2. 3. 2.]\n",
      "  [4. 1. 3. 4. 1. 3. 4. 1. 3.]\n",
      "  [2. 3. 2. 2. 3. 2. 2. 3. 2.]\n",
      "  [2. 3. 2. 2. 3. 2. 2. 3. 2.]\n",
      "  [4. 1. 3. 4. 1. 3. 4. 1. 3.]]]\n",
      "Shape: (9, 9, 9)\n"
     ]
    }
   ],
   "source": [
    "# %gui qt\n",
    "\n",
    "# Visualize the FullSurroundings \n",
    "# (Not recommended for large designs, it's extremely slow even for simple ones)\n",
    "\n",
    "# FS_vis = LatticeVisualizer(SM.FullSurroundings)\n",
    "# FS_vis.run()\n",
    "\n",
    "print(f'FullSurroundings:\\n{sm.FullSurroundings}')\n",
    "print(f'Shape: {sm.FullSurroundings.shape}')"
   ]
  },
  {
   "cell_type": "code",
   "execution_count": null,
   "metadata": {},
   "outputs": [
    {
     "name": "stdout",
     "output_type": "stream",
     "text": [
      "Original lattice: \n",
      "[[[1. 2. 2.]\n",
      "  [3. 0. 0.]\n",
      "  [2. 0. 3.]]\n",
      "\n",
      " [[3. 1. 0.]\n",
      "  [2. 4. 4.]\n",
      "  [2. 1. 0.]]\n",
      "\n",
      " [[2. 3. 2.]\n",
      "  [2. 3. 2.]\n",
      "  [4. 1. 3.]]]\n",
      "\n",
      "Voxel 0 has coordinates: (0, 0, 0) in original lattice\n",
      "Surrounding matrix for Voxel 0:\n",
      "[[[3. 4. 1.]\n",
      "  [2. 2. 3.]\n",
      "  [2. 2. 3.]]\n",
      "\n",
      " [[3. 2. 0.]\n",
      "  [2. 1. 2.]\n",
      "  [0. 3. 0.]]\n",
      "\n",
      " [[0. 2. 1.]\n",
      "  [0. 3. 1.]\n",
      "  [4. 2. 4.]]]\n"
     ]
    }
   ],
   "source": [
    "%gui qt\n",
    "# Get VoxelSurroundings for voxel at (0, 0, 0)\n",
    "\n",
    "print(f'Original lattice: \\n{lattice.MinDesign}\\n')\n",
    "voxel = lattice.voxels[0]\n",
    "print(f'Voxel {voxel.index} has coordinates: {voxel.coordinates} in original lattice')\n",
    "\n",
    "vox_surround = sm.getVoxelSurroundings(voxel)\n",
    "VS_vis = LatticeVisualizer(vox_surround)\n",
    "VS_vis.run()\n",
    "\n",
    "print(f'Surrounding matrix for Voxel {voxel.index}:\\n{vox_surround}')"
   ]
  }
 ],
 "metadata": {
  "kernelspec": {
   "display_name": "venv",
   "language": "python",
   "name": "python3"
  },
  "language_info": {
   "codemirror_mode": {
    "name": "ipython",
    "version": 3
   },
   "file_extension": ".py",
   "mimetype": "text/x-python",
   "name": "python",
   "nbconvert_exporter": "python",
   "pygments_lexer": "ipython3",
   "version": "3.12.3"
  }
 },
 "nbformat": 4,
 "nbformat_minor": 2
}
